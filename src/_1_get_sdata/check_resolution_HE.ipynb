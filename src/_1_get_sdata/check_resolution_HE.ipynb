{
 "cells": [
  {
   "cell_type": "markdown",
   "metadata": {},
   "source": [
    "# Check H&E resolution"
   ]
  },
  {
   "cell_type": "markdown",
   "metadata": {},
   "source": [
    "**=> A pixel size of 0.2125 correspond to x40**"
   ]
  },
  {
   "cell_type": "code",
   "execution_count": 1,
   "metadata": {},
   "outputs": [],
   "source": [
    "import json"
   ]
  },
  {
   "cell_type": "code",
   "execution_count": 3,
   "metadata": {},
   "outputs": [
    {
     "data": {
      "text/plain": [
       "0.2125"
      ]
     },
     "execution_count": 3,
     "metadata": {},
     "output_type": "execute_result"
    }
   ],
   "source": [
    "# breast_s0\n",
    "with open('/Volumes/DD_FGS/MICS/data_HE2CellType/CT_DS/data_xenium10X/breast_s0/Xenium_V1_FFPE_Human_Breast_IDC_With_Addon_outs/experiment.xenium', 'r') as file:\n",
    "    breast_s0 = json.load(file)\n",
    "breast_s0['pixel_size']"
   ]
  },
  {
   "cell_type": "code",
   "execution_count": 4,
   "metadata": {},
   "outputs": [
    {
     "data": {
      "text/plain": [
       "0.2125"
      ]
     },
     "execution_count": 4,
     "metadata": {},
     "output_type": "execute_result"
    }
   ],
   "source": [
    "# breast_s1\n",
    "with open('/Volumes/DD_FGS/MICS/data_HE2CellType/CT_DS/data_xenium10X/breast_s1/Xenium_V1_FFPE_Human_Breast_IDC_Big_1_outs/experiment.xenium', 'r') as file:\n",
    "    breast_s1 = json.load(file)\n",
    "breast_s1['pixel_size']"
   ]
  },
  {
   "cell_type": "code",
   "execution_count": 5,
   "metadata": {},
   "outputs": [
    {
     "data": {
      "text/plain": [
       "0.2125"
      ]
     },
     "execution_count": 5,
     "metadata": {},
     "output_type": "execute_result"
    }
   ],
   "source": [
    "# breast_s3\n",
    "with open('/Volumes/DD_FGS/MICS/data_HE2CellType/CT_DS/data_xenium10X/breast_s3/Xenium_V1_FFPE_Human_Breast_ILC_With_Addon_outs/experiment.xenium', 'r') as file:\n",
    "    breast_s3 = json.load(file)\n",
    "breast_s3['pixel_size']"
   ]
  },
  {
   "cell_type": "code",
   "execution_count": 2,
   "metadata": {},
   "outputs": [
    {
     "data": {
      "text/plain": [
       "0.2125"
      ]
     },
     "execution_count": 2,
     "metadata": {},
     "output_type": "execute_result"
    }
   ],
   "source": [
    "# breast_s6\n",
    "with open('/Volumes/DD_FGS/MICS/data_HE2CellType/CT_DS/data_xenium10X/breast_s6/Xenium_Prime_Breast_Cancer_FFPE_outs/experiment.xenium', 'r') as file:\n",
    "    breast_s6 = json.load(file)\n",
    "breast_s6['pixel_size']"
   ]
  },
  {
   "cell_type": "code",
   "execution_count": 6,
   "metadata": {},
   "outputs": [
    {
     "data": {
      "text/plain": [
       "0.2125"
      ]
     },
     "execution_count": 6,
     "metadata": {},
     "output_type": "execute_result"
    }
   ],
   "source": [
    "# lung_s1\n",
    "with open('/Volumes/DD_FGS/MICS/data_HE2CellType/CT_DS/data_xenium10X/lung_s1/Xenium_V1_Human_Lung_Cancer_Addon_FFPE_outs/experiment.xenium', 'r') as file:\n",
    "    lung_s1 = json.load(file)\n",
    "lung_s1['pixel_size']"
   ]
  },
  {
   "cell_type": "code",
   "execution_count": 3,
   "metadata": {},
   "outputs": [
    {
     "data": {
      "text/plain": [
       "0.2125"
      ]
     },
     "execution_count": 3,
     "metadata": {},
     "output_type": "execute_result"
    }
   ],
   "source": [
    "# lung_s3\n",
    "with open('/Volumes/DD_FGS/MICS/data_HE2CellType/CT_DS/data_xenium10X/lung_s3/Xenium_Prime_Human_Lung_Cancer_FFPE_outs/experiment.xenium', 'r') as file:\n",
    "    lung_s3 = json.load(file)\n",
    "lung_s3['pixel_size']"
   ]
  },
  {
   "cell_type": "code",
   "execution_count": 7,
   "metadata": {},
   "outputs": [
    {
     "data": {
      "text/plain": [
       "0.2125"
      ]
     },
     "execution_count": 7,
     "metadata": {},
     "output_type": "execute_result"
    }
   ],
   "source": [
    "# skin_s1\n",
    "with open('/Volumes/DD_FGS/MICS/data_HE2CellType/CT_DS/data_xenium10X/skin_s1/Xenium_V1_hSkin_nondiseased_section_2_FFPE_outs/experiment.xenium', 'r') as file:\n",
    "    skin_s1 = json.load(file)\n",
    "skin_s1['pixel_size']"
   ]
  },
  {
   "cell_type": "code",
   "execution_count": 9,
   "metadata": {},
   "outputs": [
    {
     "data": {
      "text/plain": [
       "0.2125"
      ]
     },
     "execution_count": 9,
     "metadata": {},
     "output_type": "execute_result"
    }
   ],
   "source": [
    "# skin_s2\n",
    "with open('/Volumes/DD_FGS/MICS/data_HE2CellType/CT_DS/data_xenium10X/skin_s2/Xeniumranger_V1_hSkin_Melanoma_Add_on_FFPE_outs/experiment.xenium', 'r') as file:\n",
    "    skin_s2 = json.load(file)\n",
    "skin_s2['pixel_size']"
   ]
  },
  {
   "cell_type": "code",
   "execution_count": 8,
   "metadata": {},
   "outputs": [
    {
     "data": {
      "text/plain": [
       "0.2125"
      ]
     },
     "execution_count": 8,
     "metadata": {},
     "output_type": "execute_result"
    }
   ],
   "source": [
    "# skin_s3\n",
    "with open('/Volumes/DD_FGS/MICS/data_HE2CellType/CT_DS/data_xenium10X/skin_s3/Xenium_V1_hSkin_Melanoma_Base_FFPE_outs/experiment.xenium', 'r') as file:\n",
    "    skin_s3 = json.load(file)\n",
    "skin_s3['pixel_size']"
   ]
  },
  {
   "cell_type": "code",
   "execution_count": 10,
   "metadata": {},
   "outputs": [
    {
     "data": {
      "text/plain": [
       "0.2125"
      ]
     },
     "execution_count": 10,
     "metadata": {},
     "output_type": "execute_result"
    }
   ],
   "source": [
    "# skin_s4\n",
    "with open('/Volumes/DD_FGS/MICS/data_HE2CellType/CT_DS/data_xenium10X/skin_s4/Xenium_Prime_Human_Skin_FFPE_outs/experiment.xenium', 'r') as file:\n",
    "    skin_s4 = json.load(file)\n",
    "skin_s4['pixel_size']"
   ]
  },
  {
   "cell_type": "code",
   "execution_count": 11,
   "metadata": {},
   "outputs": [
    {
     "data": {
      "text/plain": [
       "0.2125"
      ]
     },
     "execution_count": 11,
     "metadata": {},
     "output_type": "execute_result"
    }
   ],
   "source": [
    "# pancreatic_s0\n",
    "with open('/Volumes/DD_FGS/MICS/data_HE2CellType/CT_DS/data_xenium10X/pancreatic_s0/Xenium_V1_hPancreas_Cancer_Add_on_FFPE_outs/experiment.xenium', 'r') as file:\n",
    "    pancreatic_s0 = json.load(file)\n",
    "pancreatic_s0['pixel_size']"
   ]
  },
  {
   "cell_type": "code",
   "execution_count": 12,
   "metadata": {},
   "outputs": [
    {
     "data": {
      "text/plain": [
       "0.2125"
      ]
     },
     "execution_count": 12,
     "metadata": {},
     "output_type": "execute_result"
    }
   ],
   "source": [
    "# pancreatic_s1\n",
    "with open('/Volumes/DD_FGS/MICS/data_HE2CellType/CT_DS/data_xenium10X/pancreatic_s1/Xenium_V1_Human_Ductal_Adenocarcinoma_FFPE_outs/experiment.xenium', 'r') as file:\n",
    "    pancreatic_s1 = json.load(file)\n",
    "pancreatic_s1['pixel_size']"
   ]
  },
  {
   "cell_type": "code",
   "execution_count": 13,
   "metadata": {},
   "outputs": [
    {
     "data": {
      "text/plain": [
       "0.2125"
      ]
     },
     "execution_count": 13,
     "metadata": {},
     "output_type": "execute_result"
    }
   ],
   "source": [
    "# pancreatic_s2\n",
    "with open('/Volumes/DD_FGS/MICS/data_HE2CellType/CT_DS/data_xenium10X/pancreatic_s2/Xenium_V1_human_Pancreas_FFPE_outs/experiment.xenium', 'r') as file:\n",
    "    pancreatic_s2 = json.load(file)\n",
    "pancreatic_s2['pixel_size']"
   ]
  },
  {
   "cell_type": "code",
   "execution_count": 14,
   "metadata": {},
   "outputs": [
    {
     "data": {
      "text/plain": [
       "0.2125"
      ]
     },
     "execution_count": 14,
     "metadata": {},
     "output_type": "execute_result"
    }
   ],
   "source": [
    "# heart_s0\n",
    "with open('/Volumes/DD_FGS/MICS/data_HE2CellType/CT_DS/data_xenium10X/heart_s0/Xenium_V1_hHeart_nondiseased_section_FFPE_outs/experiment.xenium', 'r') as file:\n",
    "    heart_s0 = json.load(file)\n",
    "heart_s0['pixel_size']"
   ]
  },
  {
   "cell_type": "code",
   "execution_count": 15,
   "metadata": {},
   "outputs": [
    {
     "data": {
      "text/plain": [
       "0.2125"
      ]
     },
     "execution_count": 15,
     "metadata": {},
     "output_type": "execute_result"
    }
   ],
   "source": [
    "# colon_s1\n",
    "with open('/Volumes/DD_FGS/MICS/data_HE2CellType/CT_DS/data_xenium10X/colon_s1/Xenium_V1_hColon_Cancer_Add_on_FFPE_outs/experiment.xenium', 'r') as file:\n",
    "    colon_s1 = json.load(file)\n",
    "colon_s1['pixel_size']"
   ]
  },
  {
   "cell_type": "code",
   "execution_count": 16,
   "metadata": {},
   "outputs": [
    {
     "data": {
      "text/plain": [
       "0.2125"
      ]
     },
     "execution_count": 16,
     "metadata": {},
     "output_type": "execute_result"
    }
   ],
   "source": [
    "# colon_s2\n",
    "with open('/Volumes/DD_FGS/MICS/data_HE2CellType/CT_DS/data_xenium10X/colon_s2/Xenium_V1_Human_Colorectal_Cancer_Addon_FFPE_outs/experiment.xenium', 'r') as file:\n",
    "    colon_s2 = json.load(file)\n",
    "colon_s2['pixel_size']"
   ]
  },
  {
   "cell_type": "code",
   "execution_count": 18,
   "metadata": {},
   "outputs": [
    {
     "data": {
      "text/plain": [
       "0.2125"
      ]
     },
     "execution_count": 18,
     "metadata": {},
     "output_type": "execute_result"
    }
   ],
   "source": [
    "# kidney_s0\n",
    "with open('/Volumes/DD_FGS/MICS/data_HE2CellType/CT_DS/data_xenium10X/kidney_s0/Xenium_V1_hKidney_nondiseased_section_outs/experiment.xenium', 'r') as file:\n",
    "    kidney_s0 = json.load(file)\n",
    "kidney_s0['pixel_size']"
   ]
  },
  {
   "cell_type": "code",
   "execution_count": 17,
   "metadata": {},
   "outputs": [
    {
     "data": {
      "text/plain": [
       "0.2125"
      ]
     },
     "execution_count": 17,
     "metadata": {},
     "output_type": "execute_result"
    }
   ],
   "source": [
    "# kidney_s1\n",
    "with open('/Volumes/DD_FGS/MICS/data_HE2CellType/CT_DS/data_xenium10X/kidney_s1/Xenium_V1_hKidney_cancer_section_outs/experiment.xenium', 'r') as file:\n",
    "    kidney_s1 = json.load(file)\n",
    "kidney_s1['pixel_size']"
   ]
  },
  {
   "cell_type": "code",
   "execution_count": 19,
   "metadata": {},
   "outputs": [
    {
     "data": {
      "text/plain": [
       "0.2125"
      ]
     },
     "execution_count": 19,
     "metadata": {},
     "output_type": "execute_result"
    }
   ],
   "source": [
    "# liver_s0\n",
    "with open('/Volumes/DD_FGS/MICS/data_HE2CellType/CT_DS/data_xenium10X/liver_s0/Xenium_V1_hLiver_nondiseased_section_FFPE_outs/experiment.xenium', 'r') as file:\n",
    "    liver_s0 = json.load(file)\n",
    "liver_s0['pixel_size']"
   ]
  },
  {
   "cell_type": "code",
   "execution_count": 20,
   "metadata": {},
   "outputs": [
    {
     "data": {
      "text/plain": [
       "0.2125"
      ]
     },
     "execution_count": 20,
     "metadata": {},
     "output_type": "execute_result"
    }
   ],
   "source": [
    "# liver_s1\n",
    "with open('/Volumes/DD_FGS/MICS/data_HE2CellType/CT_DS/data_xenium10X/liver_s1/Xenium_V1_hLiver_cancer_section_FFPE_outs/experiment.xenium', 'r') as file:\n",
    "    liver_s1 = json.load(file)\n",
    "liver_s1['pixel_size']"
   ]
  },
  {
   "cell_type": "code",
   "execution_count": 21,
   "metadata": {},
   "outputs": [
    {
     "data": {
      "text/plain": [
       "0.2125"
      ]
     },
     "execution_count": 21,
     "metadata": {},
     "output_type": "execute_result"
    }
   ],
   "source": [
    "# tonsil_s0\n",
    "with open('/Volumes/DD_FGS/MICS/data_HE2CellType/CT_DS/data_xenium10X/tonsil_s0/Xenium_V1_hTonsil_reactive_follicular_hyperplasia_section_FFPE_outs/experiment.xenium', 'r') as file:\n",
    "    tonsil_s0 = json.load(file)\n",
    "tonsil_s0['pixel_size']"
   ]
  },
  {
   "cell_type": "code",
   "execution_count": 23,
   "metadata": {},
   "outputs": [
    {
     "data": {
      "text/plain": [
       "0.2125"
      ]
     },
     "execution_count": 23,
     "metadata": {},
     "output_type": "execute_result"
    }
   ],
   "source": [
    "# tonsil_s1\n",
    "with open('/Volumes/DD_FGS/MICS/data_HE2CellType/CT_DS/data_xenium10X/tonsil_s1/Xenium_V1_hTonsil_follicular_lymphoid_hyperplasia_section_FFPE_outs/experiment.xenium', 'r') as file:\n",
    "    tonsil_s1 = json.load(file)\n",
    "tonsil_s1['pixel_size']"
   ]
  },
  {
   "cell_type": "code",
   "execution_count": 24,
   "metadata": {},
   "outputs": [
    {
     "data": {
      "text/plain": [
       "0.2125"
      ]
     },
     "execution_count": 24,
     "metadata": {},
     "output_type": "execute_result"
    }
   ],
   "source": [
    "# lymph_node_s0\n",
    "with open('/Volumes/DD_FGS/MICS/data_HE2CellType/CT_DS/data_xenium10X/lymph_node_s0/Xenium_Prime_Human_Lymph_Node_Reactive_FFPE_outs/experiment.xenium', 'r') as file:\n",
    "    lymph_node_s0 = json.load(file)\n",
    "lymph_node_s0['pixel_size']"
   ]
  },
  {
   "cell_type": "code",
   "execution_count": 25,
   "metadata": {},
   "outputs": [
    {
     "data": {
      "text/plain": [
       "0.2125"
      ]
     },
     "execution_count": 25,
     "metadata": {},
     "output_type": "execute_result"
    }
   ],
   "source": [
    "# ovary_s0\n",
    "with open('/Volumes/DD_FGS/MICS/data_HE2CellType/CT_DS/data_xenium10X/ovary_s0/Xenium_V1_Human_Ovarian_Cancer_Addon_FFPE_outs/experiment.xenium', 'r') as file:\n",
    "    ovary_s0 = json.load(file)\n",
    "ovary_s0['pixel_size']"
   ]
  },
  {
   "cell_type": "code",
   "execution_count": 2,
   "metadata": {},
   "outputs": [
    {
     "data": {
      "text/plain": [
       "0.2125"
      ]
     },
     "execution_count": 2,
     "metadata": {},
     "output_type": "execute_result"
    }
   ],
   "source": [
    "# ovary_s1\n",
    "with open('/Volumes/DD_FGS/MICS/data_HE2CellType/CT_DS/data_xenium10X/ovary_s1/Xenium_Prime_Ovarian_Cancer_FFPE_outs/experiment.xenium', 'r') as file:\n",
    "    ovary_s1 = json.load(file)\n",
    "ovary_s1['pixel_size']"
   ]
  },
  {
   "cell_type": "code",
   "execution_count": 26,
   "metadata": {},
   "outputs": [
    {
     "data": {
      "text/plain": [
       "0.2125"
      ]
     },
     "execution_count": 26,
     "metadata": {},
     "output_type": "execute_result"
    }
   ],
   "source": [
    "# brain_s0\n",
    "with open('/Volumes/DD_FGS/MICS/data_HE2CellType/CT_DS/data_xenium10X/brain_s0/Xenium_V1_Human_Brain_GBM_FFPE_outs/experiment.xenium', 'r') as file:\n",
    "    brain_s0 = json.load(file)\n",
    "brain_s0['pixel_size']"
   ]
  },
  {
   "cell_type": "code",
   "execution_count": 27,
   "metadata": {},
   "outputs": [
    {
     "data": {
      "text/plain": [
       "0.2125"
      ]
     },
     "execution_count": 27,
     "metadata": {},
     "output_type": "execute_result"
    }
   ],
   "source": [
    "# bone_marrow_s0\n",
    "with open('/Volumes/DD_FGS/MICS/data_HE2CellType/CT_DS/data_xenium10X/bone_marrow_s0/Xenium_V1_hBoneMarrow_acute_lymphoid_leukemia_section_outs/experiment.xenium', 'r') as file:\n",
    "    bone_marrow_s0 = json.load(file)\n",
    "bone_marrow_s0['pixel_size']"
   ]
  },
  {
   "cell_type": "code",
   "execution_count": 28,
   "metadata": {},
   "outputs": [
    {
     "data": {
      "text/plain": [
       "0.2125"
      ]
     },
     "execution_count": 28,
     "metadata": {},
     "output_type": "execute_result"
    }
   ],
   "source": [
    "# bone_marrow_s1\n",
    "with open('/Volumes/DD_FGS/MICS/data_HE2CellType/CT_DS/data_xenium10X/bone_marrow_s1/Xenium_V1_hBoneMarrow_nondiseased_section_outs/experiment.xenium', 'r') as file:\n",
    "    bone_marrow_s1 = json.load(file)\n",
    "bone_marrow_s1['pixel_size']"
   ]
  },
  {
   "cell_type": "code",
   "execution_count": 29,
   "metadata": {},
   "outputs": [
    {
     "data": {
      "text/plain": [
       "0.2125"
      ]
     },
     "execution_count": 29,
     "metadata": {},
     "output_type": "execute_result"
    }
   ],
   "source": [
    "# bone_s0\n",
    "with open('/Volumes/DD_FGS/MICS/data_HE2CellType/CT_DS/data_xenium10X/bone_s0/Xenium_V1_hBone_nondiseased_section_outs/experiment.xenium', 'r') as file:\n",
    "    bone_s0 = json.load(file)\n",
    "bone_s0['pixel_size']"
   ]
  },
  {
   "cell_type": "code",
   "execution_count": 30,
   "metadata": {},
   "outputs": [
    {
     "data": {
      "text/plain": [
       "0.2125"
      ]
     },
     "execution_count": 30,
     "metadata": {},
     "output_type": "execute_result"
    }
   ],
   "source": [
    "# prostate_s0\n",
    "with open('/Volumes/DD_FGS/MICS/data_HE2CellType/CT_DS/data_xenium10X/prostate_s0/Xenium_Prime_Human_Prostate_FFPE_outs/experiment.xenium', 'r') as file:\n",
    "    prostate_s0 = json.load(file)\n",
    "prostate_s0['pixel_size']"
   ]
  },
  {
   "cell_type": "code",
   "execution_count": 3,
   "metadata": {},
   "outputs": [
    {
     "data": {
      "text/plain": [
       "0.2125"
      ]
     },
     "execution_count": 3,
     "metadata": {},
     "output_type": "execute_result"
    }
   ],
   "source": [
    "# cervix_s0\n",
    "with open('/Volumes/DD_FGS/MICS/data_HE2CellType/CT_DS/data_xenium10X/cervix_s0/Xenium_Prime_Cervical_Cancer_FFPE_outs/experiment.xenium', 'r') as file:\n",
    "    cervix_s0 = json.load(file)\n",
    "cervix_s0['pixel_size']"
   ]
  }
 ],
 "metadata": {
  "kernelspec": {
   "display_name": "sopa",
   "language": "python",
   "name": "python3"
  },
  "language_info": {
   "codemirror_mode": {
    "name": "ipython",
    "version": 3
   },
   "file_extension": ".py",
   "mimetype": "text/x-python",
   "name": "python",
   "nbconvert_exporter": "python",
   "pygments_lexer": "ipython3",
   "version": "3.10.14"
  }
 },
 "nbformat": 4,
 "nbformat_minor": 2
}
