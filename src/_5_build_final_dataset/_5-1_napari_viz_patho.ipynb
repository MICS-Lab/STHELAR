{
 "cells": [
  {
   "cell_type": "markdown",
   "metadata": {},
   "source": [
    "# Visualize annotations using napari (+ add pathologist annotations)"
   ]
  },
  {
   "cell_type": "markdown",
   "metadata": {},
   "source": [
    "-------\n",
    "-------"
   ]
  },
  {
   "cell_type": "markdown",
   "metadata": {},
   "source": [
    "## 1. Napari visualization"
   ]
  },
  {
   "cell_type": "code",
   "execution_count": 1,
   "metadata": {},
   "outputs": [],
   "source": [
    "slide_id = \"heart_s0\""
   ]
  },
  {
   "cell_type": "code",
   "execution_count": 2,
   "metadata": {},
   "outputs": [],
   "source": [
    "%matplotlib inline\n",
    "import matplotlib.pyplot as plt\n",
    "from spatialdata import SpatialData\n",
    "from napari_spatialdata import Interactive\n",
    "import matplotlib.pyplot as plt\n",
    "import spatialdata as sd\n",
    "import geopandas as gpd\n",
    "from shapely.geometry import Point\n",
    "import pandas as pd\n",
    "from sopa._sdata import to_intrinsic\n",
    "\n",
    "plt.rcParams[\"figure.figsize\"] = (20, 20)"
   ]
  },
  {
   "cell_type": "code",
   "execution_count": null,
   "metadata": {},
   "outputs": [
    {
     "name": "stderr",
     "output_type": "stream",
     "text": [
      "/Users/felicie-giraud-sauveur/miniforge3/envs/sopa/lib/python3.10/site-packages/spatialdata/_core/spatialdata.py:158: UserWarning: The table is annotating 'cell_labels', which is not present in the SpatialData object.\n",
      "  self.validate_table_in_spatialdata(v)\n"
     ]
    },
    {
     "data": {
      "text/plain": [
       "SpatialData object, with associated Zarr store: /Users/felicie-giraud-sauveur/Documents/HE2CellType/sauvegardes/sdata_before_adding_annots/sdata_heart_s0.zarr\n",
       "├── Images\n",
       "│     ├── 'he': DataTree[cyx] (3, 10645, 24544), (3, 5323, 12272), (3, 2662, 6136), (3, 1331, 3068), (3, 666, 1534), (3, 333, 767)\n",
       "│     └── 'morpho': DataTree[cyx] (1, 34050, 14326), (1, 17025, 7163), (1, 8512, 3581), (1, 4256, 1790), (1, 2128, 895)\n",
       "├── Points\n",
       "│     └── 'st': DataFrame with shape: (<Delayed>, 10) (3D points)\n",
       "├── Shapes\n",
       "│     ├── 'cell_boundaries': GeoDataFrame shape: (26366, 1) (2D shapes)\n",
       "│     └── 'nucleus_boundaries': GeoDataFrame shape: (26366, 1) (2D shapes)\n",
       "└── Tables\n",
       "      ├── 'table_cells': AnnData (26366, 377)\n",
       "      └── 'table_nuclei': AnnData (26366, 541)\n",
       "with coordinate systems:\n",
       "    ▸ '_st_intrinsic', with elements:\n",
       "        st (Points)\n",
       "    ▸ 'global', with elements:\n",
       "        he (Images), morpho (Images), st (Points), cell_boundaries (Shapes), nucleus_boundaries (Shapes)"
      ]
     },
     "execution_count": 4,
     "metadata": {},
     "output_type": "execute_result"
    }
   ],
   "source": [
    "sdata = SpatialData.read(f\"/Volumes/DD_FGS/MICS/data_HE2CellType/CT_DS/sdata_final/sdata_{slide_id}.zarr\")\n",
    "sdata"
   ]
  },
  {
   "cell_type": "code",
   "execution_count": 4,
   "metadata": {},
   "outputs": [
    {
     "data": {
      "image/png": "[encoded data removed]",
      "text/plain": [
       "<Figure size 1000x200 with 3 Axes>"
      ]
     },
     "metadata": {},
     "output_type": "display_data"
    }
   ],
   "source": [
    "# See legend for final labels in Napari\n",
    "\n",
    "fig, axs = plt.subplots(1, 3, figsize=(10, 2))\n",
    "\n",
    "# For table_cells\n",
    "sorted_cat_cells = sorted(list(sdata.tables[\"table_cells\"].obs[\"final_label\"].unique()))\n",
    "for category in sorted_cat_cells:\n",
    "    axs[0].scatter([], [], color=sdata['table_cells'].uns[\"final_label_colors\"][category], label=category)\n",
    "axs[0].legend(bbox_to_anchor=(0.2, 1), loc='upper left')\n",
    "axs[0].set_title(\"Final label for cells:\")\n",
    "axs[0].axis('off')\n",
    "\n",
    "# For table_nuclei\n",
    "sorted_cat_nuclei = sorted(list(sdata.tables[\"table_nuclei\"].obs[\"final_label\"].unique()))\n",
    "for category in sorted_cat_nuclei:\n",
    "    axs[1].scatter([], [], color=sdata['table_nuclei'].uns[\"final_label_colors\"][category], label=category)\n",
    "axs[1].legend(bbox_to_anchor=(0.2, 1), loc='upper left')\n",
    "axs[1].set_title(\"Final label for nuclei:\")\n",
    "axs[1].axis('off')\n",
    "\n",
    "# For table_combined\n",
    "sorted_cat_combined = sorted(list(sdata.tables[\"table_combined\"].obs[\"final_label_combined\"].unique()))\n",
    "for category in sorted_cat_combined:\n",
    "    axs[2].scatter([], [], color=sdata['table_combined'].uns[\"final_label_combined_colors\"][category], label=category)\n",
    "axs[2].legend(bbox_to_anchor=(0.2, 1), loc='upper left')\n",
    "axs[2].set_title(\"Final label for combined:\")\n",
    "axs[2].axis('off')\n",
    "\n",
    "plt.tight_layout()\n",
    "plt.show()"
   ]
  },
  {
   "cell_type": "code",
   "execution_count": null,
   "metadata": {},
   "outputs": [
    {
     "data": {
      "text/plain": [
       "<napari_spatialdata._interactive.Interactive at 0x387792ad0>"
      ]
     },
     "execution_count": 5,
     "metadata": {},
     "output_type": "execute_result"
    },
    {
     "name": "stderr",
     "output_type": "stream",
     "text": [
      "2024-11-04 16:14:34.012 python[29838:291324] +[IMKClient subclass]: chose IMKClient_Modern\n",
      "2024-11-04 16:14:34.012 python[29838:291324] +[IMKInputSession subclass]: chose IMKInputSession_Modern\n",
      "\u001b[32m2024-11-04 16:15:23.719\u001b[0m | \u001b[1mINFO    \u001b[0m | \u001b[36mnapari_spatialdata._view\u001b[0m:\u001b[36m_on_layer_update\u001b[0m:\u001b[36m355\u001b[0m - \u001b[1mUpdating layer.\u001b[0m\n",
      "\u001b[32m2024-11-04 16:15:23.720\u001b[0m | \u001b[1mINFO    \u001b[0m | \u001b[36mnapari_spatialdata._view\u001b[0m:\u001b[36m_on_layer_update\u001b[0m:\u001b[36m355\u001b[0m - \u001b[1mUpdating layer.\u001b[0m\n",
      "\u001b[32m2024-11-04 16:16:41.428\u001b[0m | \u001b[1mINFO    \u001b[0m | \u001b[36mnapari_spatialdata._view\u001b[0m:\u001b[36m_on_layer_update\u001b[0m:\u001b[36m355\u001b[0m - \u001b[1mUpdating layer.\u001b[0m\n",
      "\u001b[32m2024-11-04 16:16:41.440\u001b[0m | \u001b[1mINFO    \u001b[0m | \u001b[36mnapari_spatialdata._view\u001b[0m:\u001b[36m_on_layer_update\u001b[0m:\u001b[36m355\u001b[0m - \u001b[1mUpdating layer.\u001b[0m\n",
      "\u001b[32m2024-11-04 16:16:41.464\u001b[0m | \u001b[1mINFO    \u001b[0m | \u001b[36mnapari_spatialdata._view\u001b[0m:\u001b[36m_on_layer_update\u001b[0m:\u001b[36m355\u001b[0m - \u001b[1mUpdating layer.\u001b[0m\n"
     ]
    }
   ],
   "source": [
    "# Visualize using Napari\n",
    "Interactive(sdata)"
   ]
  },
  {
   "cell_type": "markdown",
   "metadata": {},
   "source": [
    "-------\n",
    "-------"
   ]
  },
  {
   "cell_type": "markdown",
   "metadata": {},
   "source": [
    "## 2. Pathologist annotations"
   ]
  },
  {
   "cell_type": "code",
   "execution_count": 1,
   "metadata": {},
   "outputs": [],
   "source": [
    "slide_id = \"breast_s0\""
   ]
  },
  {
   "cell_type": "code",
   "execution_count": 2,
   "metadata": {},
   "outputs": [],
   "source": [
    "%matplotlib inline\n",
    "import matplotlib.pyplot as plt\n",
    "from spatialdata import SpatialData\n",
    "from napari_spatialdata import Interactive\n",
    "import matplotlib.pyplot as plt\n",
    "import spatialdata as sd\n",
    "import geopandas as gpd\n",
    "from shapely.geometry import Point\n",
    "import pandas as pd\n",
    "from sopa._sdata import to_intrinsic\n",
    "from tqdm.notebook import tqdm\n",
    "\n",
    "plt.rcParams[\"figure.figsize\"] = (20, 20)"
   ]
  },
  {
   "cell_type": "markdown",
   "metadata": {},
   "source": [
    "### 2.1. Do the pathologist annotations and save into new sdata"
   ]
  },
  {
   "cell_type": "code",
   "execution_count": 3,
   "metadata": {},
   "outputs": [
    {
     "data": {
      "text/plain": [
       "SpatialData object, with associated Zarr store: /Users/felicie-giraud-sauveur/Documents/HE2CellType/sauvegardes/sdata_annots_patho/sdata_breast_s0.zarr\n",
       "├── Images\n",
       "│     ├── 'he': DataTree[cyx] (3, 53833, 48441), (3, 26916, 24220), (3, 13458, 12110), (3, 6729, 6055), (3, 3364, 3027), (3, 1682, 1513), (3, 841, 756), (3, 420, 378)\n",
       "│     └── 'morpho': DataTree[cyx] (1, 53833, 48441), (1, 26916, 24220), (1, 13458, 12110), (1, 6729, 6055), (1, 3364, 3027)\n",
       "├── Points\n",
       "│     └── 'st': DataFrame with shape: (<Delayed>, 10) (3D points)\n",
       "├── Shapes\n",
       "│     ├── 'cell_boundaries': GeoDataFrame shape: (576963, 1) (2D shapes)\n",
       "│     └── 'nucleus_boundaries': GeoDataFrame shape: (576963, 1) (2D shapes)\n",
       "└── Tables\n",
       "      ├── 'table_cells': AnnData (576963, 380)\n",
       "      └── 'table_nuclei': AnnData (576963, 541)\n",
       "with coordinate systems:\n",
       "    ▸ '_st_intrinsic', with elements:\n",
       "        st (Points)\n",
       "    ▸ 'global', with elements:\n",
       "        he (Images), morpho (Images), st (Points), cell_boundaries (Shapes), nucleus_boundaries (Shapes)"
      ]
     },
     "execution_count": 3,
     "metadata": {},
     "output_type": "execute_result"
    }
   ],
   "source": [
    "sdata = SpatialData.read(f\"/Users/felicie-giraud-sauveur/Documents/HE2CellType/sauvegardes/sdata_annots_patho/sdata_{slide_id}.zarr\")\n",
    "sdata"
   ]
  },
  {
   "cell_type": "code",
   "execution_count": 4,
   "metadata": {},
   "outputs": [
    {
     "name": "stdout",
     "output_type": "stream",
     "text": [
      "Length before sampling: 576963\n"
     ]
    },
    {
     "name": "stderr",
     "output_type": "stream",
     "text": [
      "/Users/felicie-giraud-sauveur/miniforge3/envs/sopa/lib/python3.10/site-packages/spatialdata/_core/_elements.py:96: UserWarning: Key `cell_boundaries` already exists. Overwriting it in-memory.\n",
      "  self._check_key(key, self.keys(), self._shared_keys)\n",
      "/Users/felicie-giraud-sauveur/miniforge3/envs/sopa/lib/python3.10/site-packages/spatialdata/_core/_elements.py:96: UserWarning: Key `nucleus_boundaries` already exists. Overwriting it in-memory.\n",
      "  self._check_key(key, self.keys(), self._shared_keys)\n"
     ]
    },
    {
     "name": "stdout",
     "output_type": "stream",
     "text": [
      "Length after sampling: 70000\n"
     ]
    }
   ],
   "source": [
    "print(\"Length before sampling:\", len(sdata.shapes['cell_boundaries']))\n",
    "\n",
    "if len(sdata.shapes['cell_boundaries']) > 70000:\n",
    "    \n",
    "    sdata.shapes['cell_boundaries'] = sdata.shapes['cell_boundaries'].sample(n=70000, random_state=42)\n",
    "    kept_cell_id = sdata.shapes['cell_boundaries'].index\n",
    "    \n",
    "    sdata.shapes['nucleus_boundaries'] = sdata.shapes['nucleus_boundaries'][sdata.shapes['nucleus_boundaries'].index.isin(kept_cell_id)]\n",
    "\n",
    "    print(\"Length after sampling:\", len(sdata.shapes['cell_boundaries']))"
   ]
  },
  {
   "cell_type": "code",
   "execution_count": 5,
   "metadata": {},
   "outputs": [
    {
     "data": {
      "image/png": "[encoded data removed]",
      "text/plain": [
       "<Figure size 1000x200 with 2 Axes>"
      ]
     },
     "metadata": {},
     "output_type": "display_data"
    }
   ],
   "source": [
    "# See legend for final labels in Napari\n",
    "\n",
    "fig, axs = plt.subplots(1, 2, figsize=(10, 2))\n",
    "\n",
    "# For table_cells\n",
    "sorted_cat_cells = sorted(list(sdata.tables[\"table_cells\"].obs[\"final_label\"].unique()))\n",
    "for category in sorted_cat_cells:\n",
    "    axs[0].scatter([], [], color=sdata['table_cells'].uns[\"final_label_colors\"][category], label=category)\n",
    "axs[0].legend(bbox_to_anchor=(0.25, 1), loc='upper left')\n",
    "axs[0].set_title(\"Final label for cells:\")\n",
    "axs[0].axis('off')\n",
    "\n",
    "# For table_nuclei\n",
    "sorted_cat_nuclei = sorted(list(sdata.tables[\"table_nuclei\"].obs[\"final_label\"].unique()))\n",
    "for category in sorted_cat_nuclei:\n",
    "    axs[1].scatter([], [], color=sdata['table_nuclei'].uns[\"final_label_colors\"][category], label=category)\n",
    "axs[1].legend(bbox_to_anchor=(0.25, 1), loc='upper left')\n",
    "axs[1].set_title(\"Final label for nuclei:\")\n",
    "axs[1].axis('off')\n",
    "\n",
    "plt.tight_layout()\n",
    "plt.show()"
   ]
  },
  {
   "cell_type": "code",
   "execution_count": 6,
   "metadata": {},
   "outputs": [
    {
     "data": {
      "text/plain": [
       "<napari_spatialdata._interactive.Interactive at 0x1103a6860>"
      ]
     },
     "execution_count": 6,
     "metadata": {},
     "output_type": "execute_result"
    },
    {
     "name": "stderr",
     "output_type": "stream",
     "text": [
      "2024-11-08 12:53:11.586 python[71438:1845228] +[IMKClient subclass]: chose IMKClient_Modern\n",
      "2024-11-08 12:53:11.586 python[71438:1845228] +[IMKInputSession subclass]: chose IMKInputSession_Modern\n",
      "\u001b[32m2024-11-08 12:53:17.185\u001b[0m | \u001b[1mINFO    \u001b[0m | \u001b[36mnapari_spatialdata._view\u001b[0m:\u001b[36m_on_layer_update\u001b[0m:\u001b[36m355\u001b[0m - \u001b[1mUpdating layer.\u001b[0m\n",
      "\u001b[32m2024-11-08 12:53:17.186\u001b[0m | \u001b[1mINFO    \u001b[0m | \u001b[36mnapari_spatialdata._view\u001b[0m:\u001b[36m_on_layer_update\u001b[0m:\u001b[36m355\u001b[0m - \u001b[1mUpdating layer.\u001b[0m\n",
      "\u001b[32m2024-11-08 12:53:59.709\u001b[0m | \u001b[1mINFO    \u001b[0m | \u001b[36mnapari_spatialdata._view\u001b[0m:\u001b[36m_on_layer_update\u001b[0m:\u001b[36m355\u001b[0m - \u001b[1mUpdating layer.\u001b[0m\n",
      "\u001b[32m2024-11-08 12:53:59.754\u001b[0m | \u001b[1mINFO    \u001b[0m | \u001b[36mnapari_spatialdata._view\u001b[0m:\u001b[36m_on_layer_update\u001b[0m:\u001b[36m355\u001b[0m - \u001b[1mUpdating layer.\u001b[0m\n",
      "\u001b[32m2024-11-08 12:53:59.961\u001b[0m | \u001b[1mINFO    \u001b[0m | \u001b[36mnapari_spatialdata._view\u001b[0m:\u001b[36m_on_layer_update\u001b[0m:\u001b[36m355\u001b[0m - \u001b[1mUpdating layer.\u001b[0m\n"
     ]
    }
   ],
   "source": [
    "# Do the pathologist annotations in Napari:\n",
    "# => For each category: \n",
    "        # - Add a new points layer and name it with the name of the category (e.g. ‘T_NK’) --> NB: use enter to rename the layer\n",
    "        # - Then put a point on each core belonging to this category --> NB: use shift-E to save the layer (only in memory, saving on disk have to be then done with .write)).\n",
    "Interactive(sdata)"
   ]
  },
  {
   "cell_type": "code",
   "execution_count": null,
   "metadata": {},
   "outputs": [],
   "source": [
    "sdata"
   ]
  },
  {
   "cell_type": "code",
   "execution_count": null,
   "metadata": {},
   "outputs": [],
   "source": [
    "# Save on disk\n",
    "list_layers = [\"T_NK\", \"B_Plasma\", \"Myeloid\", \"Bood_vessel\", \"Fibroblast_Myofibroblast\", \"Epithelial\", \"Specialized\", \"Melanocyte\", \"Stem_like\", \"Glioblastoma\", \"Unknown\"]\n",
    "for layer_name in list_layers:\n",
    "    if layer_name in list(sdata.points.keys()):\n",
    "        print(f\"Saving layer {layer_name}\")\n",
    "        sdata.write_element(layer_name)\n",
    "    else:\n",
    "        print(f\"Layer {layer_name} not found in sdata\")"
   ]
  },
  {
   "cell_type": "markdown",
   "metadata": {},
   "source": [
    "### 2.2. Add the pathologist annotations into the final sdata"
   ]
  },
  {
   "cell_type": "code",
   "execution_count": null,
   "metadata": {},
   "outputs": [],
   "source": [
    "sdata = SpatialData.read(f\"/Users/felicie-giraud-sauveur/Documents/HE2CellType/sauvegardes/sdata_annots_patho/sdata_{slide_id}.zarr\")\n",
    "sdata"
   ]
  },
  {
   "cell_type": "code",
   "execution_count": 6,
   "metadata": {},
   "outputs": [],
   "source": [
    "def get_patho_annots(sdata_patho, list_layers):\n",
    "\n",
    "    sdata_patho.shapes[\"cell_boundaries\"]['cell_id'] = sdata_patho.shapes[\"cell_boundaries\"].index\n",
    "    result_dict = {cell_id: \"NoAnnot\" for cell_id in sdata_patho.shapes[\"cell_boundaries\"]['cell_id']}\n",
    "\n",
    "    for layer_name in list_layers:\n",
    "        print(f\"Processing layer {layer_name}:\")\n",
    "\n",
    "        gdf_boundaries = to_intrinsic(sdata_patho, sdata_patho.shapes[\"cell_boundaries\"], sdata_patho.points[layer_name])\n",
    "\n",
    "        df_annots = sdata_patho.points[layer_name].copy().compute() # Dask to pandas dataframe\n",
    "        gdf_annots = gpd.GeoDataFrame(df_annots, geometry=gpd.points_from_xy(df_annots.x, df_annots.y), crs=\"EPSG:4326\") # pandas to geopandas dataframe\n",
    "        \n",
    "        boundaries_idx, annots_idx = gdf_annots.geometry.sindex.query(gdf_boundaries.geometry, predicate='intersects')\n",
    "\n",
    "        for cell_id in tqdm(gdf_boundaries.iloc[boundaries_idx]['cell_id'].values, total=len(gdf_boundaries.iloc[boundaries_idx]['cell_id'].values)):\n",
    "            if result_dict[cell_id] == \"NoAnnot\":\n",
    "                result_dict[cell_id] = layer_name\n",
    "            else:\n",
    "                print(f\"¡¡¡ Warning: cell {cell_id} has multiple annotations, keeping '{result_dict[cell_id]}' and not '{layer_name}' !!!\")\n",
    "    \n",
    "    return result_dict"
   ]
  },
  {
   "cell_type": "code",
   "execution_count": null,
   "metadata": {},
   "outputs": [],
   "source": [
    "list(sdata.points.keys())"
   ]
  },
  {
   "cell_type": "code",
   "execution_count": null,
   "metadata": {},
   "outputs": [],
   "source": [
    "# [\"T_NK\", \"B_Plasma\", \"Myeloid\", \"Blood_vessel\", \"Fibroblast_Myofibroblast\", \"Epithelial\", \"Specialized\", \"Melanocyte\", \"Stem_like\", \"Glioblastoma\", \"Unknown\"]\n",
    "cellid2patho = get_patho_annots(sdata,\n",
    "                                [layer for layer in list(sdata.points.keys()) if layer != \"st\"])"
   ]
  },
  {
   "cell_type": "code",
   "execution_count": 8,
   "metadata": {},
   "outputs": [],
   "source": [
    "sdata.tables['table_nuclei'].obs['patho_label'] = sdata.tables['table_nuclei'].obs['cell_id'].map(cellid2patho).fillna('Unknown')\n",
    "sdata.tables['table_cells'].obs['patho_label'] = sdata.tables['table_cells'].obs['cell_id'].map(cellid2patho).fillna('Unknown')"
   ]
  },
  {
   "cell_type": "code",
   "execution_count": null,
   "metadata": {},
   "outputs": [],
   "source": [
    "sdata.tables['table_nuclei'].obs"
   ]
  },
  {
   "cell_type": "code",
   "execution_count": null,
   "metadata": {},
   "outputs": [],
   "source": [
    "sdata.tables['table_cells'].obs"
   ]
  },
  {
   "cell_type": "code",
   "execution_count": null,
   "metadata": {},
   "outputs": [],
   "source": [
    "sdata.tables['table_cells'].obs['patho_label'].value_counts()"
   ]
  },
  {
   "cell_type": "code",
   "execution_count": null,
   "metadata": {},
   "outputs": [],
   "source": [
    "# Save on disk\n",
    "\n",
    "sdata.delete_element_from_disk(\"table_nuclei\")\n",
    "sdata.write_element(\"table_nuclei\")\n",
    "\n",
    "sdata.delete_element_from_disk(\"table_cells\")\n",
    "sdata.write_element(\"table_cells\")"
   ]
  }
 ],
 "metadata": {
  "kernelspec": {
   "display_name": "sopa",
   "language": "python",
   "name": "python3"
  },
  "language_info": {
   "codemirror_mode": {
    "name": "ipython",
    "version": 3
   },
   "file_extension": ".py",
   "mimetype": "text/x-python",
   "name": "python",
   "nbconvert_exporter": "python",
   "pygments_lexer": "ipython3",
   "version": "3.10.14"
  }
 },
 "nbformat": 4,
 "nbformat_minor": 2
}
